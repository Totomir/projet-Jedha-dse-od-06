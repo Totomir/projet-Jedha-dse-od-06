{
 "cells": [
  {
   "cell_type": "markdown",
   "metadata": {},
   "source": [
    "# Traitement des données :\n",
    "\n",
    "Dans un premier temps, à partir de ma base brute **\"DVF_80.csv\"** je devais retirer un grand nombre de colonnes qui ne me servait pas dans mon étude de la valeur. Le choix a été minutieux, de façon à ne pas retirer de potentiel features importantes. \n",
    "\n",
    "Pour ce faire, j'ai utilisé MySQL et SQLite. MySQL me permettait de faire de plus grosses requêtes comparées à SQLite qui ne peut DROP qu'une colonne à la fois par exemple : \n",
    "\n",
    "[SQL Drop command](SQL/SQL_Drop.png)\n",
    "\n",
    "Dans un second temps, j'ai retiré toutes les natures de mutation qui sont autres que des ventes.\n",
    "\n",
    "[SQL Delete != ventes](SQL/SQL_Delete_first_step.png)\n",
    "\n",
    "Par la suite, j'ai supprimé un ensemble de lignes comprenant des NULL, ou bien des types de bien qui ne correspondait pas.\n",
    "\n",
    "[SQL Delete ...](SQL/SQL_Delete_other.png)\n",
    "\n",
    "Une fois mes données retraitées, je peux procéder à l'analyse.\n",
    "\n"
   ]
  },
  {
   "cell_type": "markdown",
   "metadata": {},
   "source": [
    "## Analyse avec Python"
   ]
  },
  {
   "cell_type": "code",
   "execution_count": 18,
   "metadata": {},
   "outputs": [],
   "source": [
    "# Import\n",
    "import pandas as pd\n",
    "import numpy as np \n",
    "from sklearn.model_selection import train_test_split\n",
    "from sklearn.preprocessing import StandardScaler, OneHotEncoder\n",
    "from sklearn.compose import ColumnTransformer\n",
    "from sklearn.linear_model import LinearRegression\n",
    "from sklearn.impute import SimpleImputer\n",
    "import seaborn as sns\n",
    "import matplotlib.pyplot as plt"
   ]
  },
  {
   "cell_type": "code",
   "execution_count": 19,
   "metadata": {},
   "outputs": [],
   "source": [
    "# Possibilité d'afficher les données de base pour comparer\n",
    "\n",
    "# df = pd.read_csv(\"Data/DVF_80.csv\")\n",
    "# df.head()\n",
    "\n",
    "# print(df.shape)\n",
    "\n",
    "# print(df.describe(include=\"all\"))\n"
   ]
  },
  {
   "cell_type": "code",
   "execution_count": 20,
   "metadata": {},
   "outputs": [
    {
     "data": {
      "text/html": [
       "<div>\n",
       "<style scoped>\n",
       "    .dataframe tbody tr th:only-of-type {\n",
       "        vertical-align: middle;\n",
       "    }\n",
       "\n",
       "    .dataframe tbody tr th {\n",
       "        vertical-align: top;\n",
       "    }\n",
       "\n",
       "    .dataframe thead th {\n",
       "        text-align: right;\n",
       "    }\n",
       "</style>\n",
       "<table border=\"1\" class=\"dataframe\">\n",
       "  <thead>\n",
       "    <tr style=\"text-align: right;\">\n",
       "      <th></th>\n",
       "      <th>id_mutation</th>\n",
       "      <th>nature_mutation</th>\n",
       "      <th>valeur_fonciere</th>\n",
       "      <th>code_postal</th>\n",
       "      <th>type_local</th>\n",
       "      <th>surface_reelle_bati</th>\n",
       "    </tr>\n",
       "  </thead>\n",
       "  <tbody>\n",
       "    <tr>\n",
       "      <th>0</th>\n",
       "      <td>2023-432445</td>\n",
       "      <td>Vente</td>\n",
       "      <td>163500.0</td>\n",
       "      <td>80580</td>\n",
       "      <td>Maison</td>\n",
       "      <td>85</td>\n",
       "    </tr>\n",
       "    <tr>\n",
       "      <th>1</th>\n",
       "      <td>2023-432446</td>\n",
       "      <td>Vente</td>\n",
       "      <td>190500.0</td>\n",
       "      <td>80480</td>\n",
       "      <td>Maison</td>\n",
       "      <td>59</td>\n",
       "    </tr>\n",
       "    <tr>\n",
       "      <th>2</th>\n",
       "      <td>2023-432447</td>\n",
       "      <td>Vente</td>\n",
       "      <td>365000.0</td>\n",
       "      <td>80000</td>\n",
       "      <td>Local industriel. commercial ou assimilé</td>\n",
       "      <td>392</td>\n",
       "    </tr>\n",
       "    <tr>\n",
       "      <th>3</th>\n",
       "      <td>2023-432447</td>\n",
       "      <td>Vente</td>\n",
       "      <td>365000.0</td>\n",
       "      <td>80000</td>\n",
       "      <td>Appartement</td>\n",
       "      <td>51</td>\n",
       "    </tr>\n",
       "    <tr>\n",
       "      <th>4</th>\n",
       "      <td>2023-432448</td>\n",
       "      <td>Vente</td>\n",
       "      <td>220000.0</td>\n",
       "      <td>80150</td>\n",
       "      <td>Maison</td>\n",
       "      <td>84</td>\n",
       "    </tr>\n",
       "  </tbody>\n",
       "</table>\n",
       "</div>"
      ],
      "text/plain": [
       "   id_mutation nature_mutation  valeur_fonciere  code_postal  \\\n",
       "0  2023-432445           Vente         163500.0        80580   \n",
       "1  2023-432446           Vente         190500.0        80480   \n",
       "2  2023-432447           Vente         365000.0        80000   \n",
       "3  2023-432447           Vente         365000.0        80000   \n",
       "4  2023-432448           Vente         220000.0        80150   \n",
       "\n",
       "                                 type_local  surface_reelle_bati  \n",
       "0                                    Maison                   85  \n",
       "1                                    Maison                   59  \n",
       "2  Local industriel. commercial ou assimilé                  392  \n",
       "3                               Appartement                   51  \n",
       "4                                    Maison                   84  "
      ]
     },
     "execution_count": 20,
     "metadata": {},
     "output_type": "execute_result"
    }
   ],
   "source": [
    "df_step2 = pd.read_csv(\"Data/DVF_80_retraitees.csv\")\n",
    "df_step2.head()"
   ]
  },
  {
   "cell_type": "code",
   "execution_count": 21,
   "metadata": {},
   "outputs": [
    {
     "name": "stdout",
     "output_type": "stream",
     "text": [
      "(4397, 6)\n",
      "        id_mutation nature_mutation  valeur_fonciere   code_postal type_local  \\\n",
      "count          4397            4397     4.397000e+03   4397.000000       4397   \n",
      "unique         3393               1              NaN           NaN          3   \n",
      "top     2023-432496           Vente              NaN           NaN     Maison   \n",
      "freq             33            4397              NaN           NaN       3079   \n",
      "mean            NaN             NaN     2.074016e+05  80283.294292        NaN   \n",
      "std             NaN             NaN     3.380510e+05    243.745282        NaN   \n",
      "min             NaN             NaN     1.000000e+00  80000.000000        NaN   \n",
      "25%             NaN             NaN     9.700000e+04  80090.000000        NaN   \n",
      "50%             NaN             NaN     1.500000e+05  80210.000000        NaN   \n",
      "75%             NaN             NaN     2.247500e+05  80460.000000        NaN   \n",
      "max             NaN             NaN     7.380000e+06  80980.000000        NaN   \n",
      "\n",
      "        surface_reelle_bati  \n",
      "count           4397.000000  \n",
      "unique                  NaN  \n",
      "top                     NaN  \n",
      "freq                    NaN  \n",
      "mean             128.068001  \n",
      "std              776.355967  \n",
      "min                3.000000  \n",
      "25%               52.000000  \n",
      "50%               77.000000  \n",
      "75%              105.000000  \n",
      "max            31635.000000  \n"
     ]
    },
    {
     "data": {
      "text/plain": [
       "id_mutation            False\n",
       "nature_mutation        False\n",
       "valeur_fonciere        False\n",
       "code_postal            False\n",
       "type_local             False\n",
       "surface_reelle_bati    False\n",
       "dtype: bool"
      ]
     },
     "execution_count": 21,
     "metadata": {},
     "output_type": "execute_result"
    }
   ],
   "source": [
    "# Affichage du nombre de ligne et de colonne\n",
    "print(df_step2.shape)\n",
    "\n",
    "# Affichage des informations statistiques essentielles\n",
    "print(df_step2.describe(include=\"all\"))\n",
    "\n",
    "# Affichage des colonnes qui contiennent des valeurs null --> normalement il ne devrait pas en avoir après mon retraitement de données en SQL\n",
    "df_step2.isnull().any()"
   ]
  },
  {
   "cell_type": "code",
   "execution_count": 22,
   "metadata": {},
   "outputs": [
    {
     "data": {
      "image/png": "[encoded data removed]",
      "text/plain": [
       "<Figure size 640x480 with 1 Axes>"
      ]
     },
     "metadata": {},
     "output_type": "display_data"
    }
   ],
   "source": [
    "# Affichage du nuage de point pour visualiser la tendance\n",
    "\n",
    "plt.scatter(df_step2.iloc[:, 5], df_step2.iloc[:, 2], color=\"#4BE8E0\")\n",
    "plt.show()"
   ]
  },
  {
   "cell_type": "code",
   "execution_count": 23,
   "metadata": {},
   "outputs": [
    {
     "data": {
      "image/png": "[encoded data removed]",
      "text/plain": [
       "<Figure size 640x480 with 1 Axes>"
      ]
     },
     "metadata": {},
     "output_type": "display_data"
    }
   ],
   "source": [
    "# Affichage d'un graphique à barre mettant en avant les éléments principaux comme les quartiles, les min / max et la moyenne\n",
    "\n",
    "max_value = df_step2['valeur_fonciere'].max()\n",
    "min_value = df_step2['valeur_fonciere'].min()\n",
    "mean_value = round(df_step2['valeur_fonciere'].mean(),2)\n",
    "q1 = df_step2['valeur_fonciere'].quantile(0.25)\n",
    "q3 = df_step2['valeur_fonciere'].quantile(0.75)\n",
    "\n",
    "plt.bar(['Min', 'Q1', 'Mean', 'Q3', 'Max'], [min_value, q1, mean_value, q3, max_value])\n",
    "\n",
    "plt.text(0, min_value, str(min_value), ha='center', va='bottom')\n",
    "plt.text(1, q1, str(q1), ha='center', va='bottom')\n",
    "plt.text(2, mean_value, str(mean_value), ha='center', va='bottom')\n",
    "plt.text(3, q3, str(q3), ha='center', va='bottom')\n",
    "plt.text(4, max_value, str(max_value), ha='center', va='bottom')\n",
    "\n",
    "plt.title(\"Représentation de la valeur foncière dans son ensemble\")\n",
    "\n",
    "plt.show()"
   ]
  },
  {
   "cell_type": "code",
   "execution_count": 24,
   "metadata": {},
   "outputs": [
    {
     "data": {
      "image/png": "[encoded data removed]",
      "text/plain": [
       "<Figure size 500x500 with 1 Axes>"
      ]
     },
     "metadata": {},
     "output_type": "display_data"
    }
   ],
   "source": [
    "# Traçage d'une droite de régression linéaire lié à mon nuage de point\n",
    "\n",
    "sns.set(style=\"darkgrid\")\n",
    "sns.lmplot(x=\"surface_reelle_bati\", y=\"valeur_fonciere\", data=df_step2)\n",
    "\n",
    "plt.title(\"Droite de Régression Linéaire de la valeur foncière en fonction de la surface\")\n",
    "\n",
    "plt.show()"
   ]
  },
  {
   "cell_type": "markdown",
   "metadata": {},
   "source": [
    "Malgré des valeurs extrêmes et un regroupement de données, je décide de partir sur un modèle de régression linéaire. J'imagine qu'une tendance va ressortir de la superficie des biens et du type de bien, permettant d'envisager sa valeur."
   ]
  },
  {
   "cell_type": "markdown",
   "metadata": {},
   "source": [
    "## Machine Learning --> Modèle de régression linéaire"
   ]
  },
  {
   "cell_type": "code",
   "execution_count": 25,
   "metadata": {},
   "outputs": [
    {
     "data": {
      "text/html": [
       "<div>\n",
       "<style scoped>\n",
       "    .dataframe tbody tr th:only-of-type {\n",
       "        vertical-align: middle;\n",
       "    }\n",
       "\n",
       "    .dataframe tbody tr th {\n",
       "        vertical-align: top;\n",
       "    }\n",
       "\n",
       "    .dataframe thead th {\n",
       "        text-align: right;\n",
       "    }\n",
       "</style>\n",
       "<table border=\"1\" class=\"dataframe\">\n",
       "  <thead>\n",
       "    <tr style=\"text-align: right;\">\n",
       "      <th></th>\n",
       "      <th>id_mutation</th>\n",
       "      <th>nature_mutation</th>\n",
       "      <th>valeur_fonciere</th>\n",
       "      <th>code_postal</th>\n",
       "      <th>type_local</th>\n",
       "      <th>surface_reelle_bati</th>\n",
       "    </tr>\n",
       "  </thead>\n",
       "  <tbody>\n",
       "    <tr>\n",
       "      <th>0</th>\n",
       "      <td>2023-432445</td>\n",
       "      <td>Vente</td>\n",
       "      <td>163500.0</td>\n",
       "      <td>80580</td>\n",
       "      <td>Maison</td>\n",
       "      <td>85</td>\n",
       "    </tr>\n",
       "    <tr>\n",
       "      <th>1</th>\n",
       "      <td>2023-432446</td>\n",
       "      <td>Vente</td>\n",
       "      <td>190500.0</td>\n",
       "      <td>80480</td>\n",
       "      <td>Maison</td>\n",
       "      <td>59</td>\n",
       "    </tr>\n",
       "    <tr>\n",
       "      <th>2</th>\n",
       "      <td>2023-432447</td>\n",
       "      <td>Vente</td>\n",
       "      <td>365000.0</td>\n",
       "      <td>80000</td>\n",
       "      <td>Local industriel. commercial ou assimilé</td>\n",
       "      <td>392</td>\n",
       "    </tr>\n",
       "    <tr>\n",
       "      <th>3</th>\n",
       "      <td>2023-432447</td>\n",
       "      <td>Vente</td>\n",
       "      <td>365000.0</td>\n",
       "      <td>80000</td>\n",
       "      <td>Appartement</td>\n",
       "      <td>51</td>\n",
       "    </tr>\n",
       "    <tr>\n",
       "      <th>4</th>\n",
       "      <td>2023-432448</td>\n",
       "      <td>Vente</td>\n",
       "      <td>220000.0</td>\n",
       "      <td>80150</td>\n",
       "      <td>Maison</td>\n",
       "      <td>84</td>\n",
       "    </tr>\n",
       "  </tbody>\n",
       "</table>\n",
       "</div>"
      ],
      "text/plain": [
       "   id_mutation nature_mutation  valeur_fonciere  code_postal  \\\n",
       "0  2023-432445           Vente         163500.0        80580   \n",
       "1  2023-432446           Vente         190500.0        80480   \n",
       "2  2023-432447           Vente         365000.0        80000   \n",
       "3  2023-432447           Vente         365000.0        80000   \n",
       "4  2023-432448           Vente         220000.0        80150   \n",
       "\n",
       "                                 type_local  surface_reelle_bati  \n",
       "0                                    Maison                   85  \n",
       "1                                    Maison                   59  \n",
       "2  Local industriel. commercial ou assimilé                  392  \n",
       "3                               Appartement                   51  \n",
       "4                                    Maison                   84  "
      ]
     },
     "execution_count": 25,
     "metadata": {},
     "output_type": "execute_result"
    }
   ],
   "source": [
    "# Rappel des colonnes\n",
    "\n",
    "df_step2.head()"
   ]
  },
  {
   "cell_type": "code",
   "execution_count": 26,
   "metadata": {},
   "outputs": [
    {
     "name": "stdout",
     "output_type": "stream",
     "text": [
      "Separating labels from features...\n",
      "...Done.\n",
      "\n"
     ]
    }
   ],
   "source": [
    "# Séparation de la variable cible Y et de la variable \"features\" X\n",
    "\n",
    "print(\"Separating labels from features...\")\n",
    "feature_list=[\"surface_reelle_bati\", \"type_local\"]\n",
    "X = df_step2.loc[:,feature_list]\n",
    "y = df_step2.loc[:,\"valeur_fonciere\"]\n",
    "print(\"...Done.\")\n",
    "print()"
   ]
  },
  {
   "cell_type": "code",
   "execution_count": 27,
   "metadata": {},
   "outputs": [
    {
     "name": "stdout",
     "output_type": "stream",
     "text": [
      "Splitting dataset into train set and test set...\n",
      "...Done.\n",
      "      surface_reelle_bati   type_local\n",
      "4332                   71  Appartement\n",
      "3245                   50       Maison\n",
      "980                    83       Maison\n",
      "1593                   89       Maison\n",
      "3870                   28  Appartement\n"
     ]
    }
   ],
   "source": [
    "# Division du dataset en Train / Test\n",
    "\n",
    "print(\"Splitting dataset into train set and test set...\")\n",
    "\n",
    "X_train, X_test, y_train, y_test = train_test_split(X, y, test_size=0.2, random_state=0) \n",
    "\n",
    "print(\"...Done.\")  \n",
    "\n",
    "# Visualisation de mon X_train\n",
    "\n",
    "print(X_train.head())"
   ]
  },
  {
   "cell_type": "code",
   "execution_count": 28,
   "metadata": {},
   "outputs": [
    {
     "name": "stdout",
     "output_type": "stream",
     "text": [
      "--- Training pipeline ---\n",
      "\n",
      "#### X_train BEFORE preprocessing ####\n",
      "      surface_reelle_bati   type_local\n",
      "4332                   71  Appartement\n",
      "3245                   50       Maison\n",
      "980                    83       Maison\n",
      "1593                   89       Maison\n",
      "3870                   28  Appartement\n",
      "\n",
      "Encoding categorical features and standardizing numerical features...\n",
      "\n",
      "...Done.\n",
      "[[-0.07120801  0.          0.        ]\n",
      " [-0.09638025  0.          1.        ]\n",
      " [-0.05682388  0.          1.        ]\n",
      " [-0.04963181  0.          1.        ]\n",
      " [-0.12275116  0.          0.        ]]\n",
      "\n"
     ]
    }
   ],
   "source": [
    "### Training pipeline ###\n",
    "print(\"--- Training pipeline ---\")\n",
    "print()  \n",
    "\n",
    "# Encodage des \"categorical features\" et standardisation des \"numeric features\"\n",
    "\n",
    "print(\"#### X_train BEFORE preprocessing ####\")\n",
    "print(X_train.head())\n",
    "print()\n",
    "\n",
    "print(\"Encoding categorical features and standardizing numerical features...\")\n",
    "\n",
    "print()\n",
    "\n",
    "numeric_features = [0]\n",
    "numeric_transformer = StandardScaler()\n",
    "\n",
    "categorical_features = [1]\n",
    "categorical_transformer = OneHotEncoder(drop='first')\n",
    "\n",
    "feature_encoder = ColumnTransformer(\n",
    "    transformers=[  \n",
    "        ('num', numeric_transformer, numeric_features),\n",
    "        ('cat', categorical_transformer, categorical_features)\n",
    "        ]\n",
    "    )\n",
    "\n",
    "X_train = feature_encoder.fit_transform(X_train)\n",
    "print(\"...Done.\")\n",
    "print(X_train[:5]) \n",
    "print()"
   ]
  },
  {
   "cell_type": "code",
   "execution_count": 29,
   "metadata": {},
   "outputs": [
    {
     "name": "stdout",
     "output_type": "stream",
     "text": [
      "Train model...\n",
      "...Done.\n"
     ]
    }
   ],
   "source": [
    "# Train model\n",
    "\n",
    "print(\"Train model...\")\n",
    "regressor = LinearRegression()\n",
    "regressor.fit(X_train, y_train) \n",
    "print(\"...Done.\")"
   ]
  },
  {
   "cell_type": "code",
   "execution_count": 30,
   "metadata": {},
   "outputs": [
    {
     "name": "stdout",
     "output_type": "stream",
     "text": [
      "Predictions on training set...\n",
      "...Done.\n",
      "[187282.45638321 173184.91986255 173801.54614591 173913.66001561\n",
      " 186478.97365035]\n",
      "\n"
     ]
    }
   ],
   "source": [
    "# Prédiction sur le training set\n",
    "print(\"Predictions on training set...\")\n",
    "y_train_pred = regressor.predict(X_train)\n",
    "print(\"...Done.\")\n",
    "print(y_train_pred[:5]) \n",
    "print()"
   ]
  },
  {
   "cell_type": "code",
   "execution_count": 31,
   "metadata": {},
   "outputs": [
    {
     "name": "stdout",
     "output_type": "stream",
     "text": [
      "--- Testing pipeline ---\n",
      "Standardizing numerical features...\n",
      "      surface_reelle_bati                                type_local\n",
      "584                    72                                    Maison\n",
      "499                    64                                    Maison\n",
      "4287                   69                                    Maison\n",
      "3348                   93                                    Maison\n",
      "3573                  120  Local industriel. commercial ou assimilé\n",
      "...                   ...                                       ...\n",
      "1001                   50                                    Maison\n",
      "3218                   19                               Appartement\n",
      "977                    86                               Appartement\n",
      "3401                  108                                    Maison\n",
      "2224                   33                                    Maison\n",
      "\n",
      "[880 rows x 2 columns]\n",
      "\n",
      "...Done.\n",
      "[[-0.07000933  0.          1.        ]\n",
      " [-0.07959876  0.          1.        ]\n",
      " [-0.07360537  0.          1.        ]\n",
      " [-0.0448371   0.          1.        ]\n",
      " [-0.01247279  1.          0.        ]]\n",
      "\n"
     ]
    }
   ],
   "source": [
    "### Testing pipeline ###\n",
    "print(\"--- Testing pipeline ---\")\n",
    "\n",
    "# Standardisation des \"numeric features\"\n",
    "print(\"Standardizing numerical features...\")\n",
    "print(X_test)\n",
    "print()\n",
    "\n",
    "X_test = feature_encoder.transform(X_test)\n",
    "\n",
    "print(\"...Done.\")\n",
    "print(X_test[:5])\n",
    "print()"
   ]
  },
  {
   "cell_type": "code",
   "execution_count": 32,
   "metadata": {},
   "outputs": [
    {
     "name": "stdout",
     "output_type": "stream",
     "text": [
      "Predictions on test set...\n",
      "...Done.\n",
      "[173596.00405145 173446.51889185 173539.9471166  173988.40259541\n",
      " 528381.33306198]\n",
      "\n"
     ]
    }
   ],
   "source": [
    "# Prédiction du test set\n",
    "\n",
    "print(\"Predictions on test set...\")\n",
    "y_test_pred = regressor.predict(X_test)\n",
    "print(\"...Done.\")\n",
    "print(y_test_pred[:5])\n",
    "print()"
   ]
  },
  {
   "cell_type": "code",
   "execution_count": 33,
   "metadata": {},
   "outputs": [
    {
     "name": "stdout",
     "output_type": "stream",
     "text": [
      "--- Assessing the performances of the model ---\n",
      "R2 score on training set :  0.10040676940836746\n",
      "R2 score on test set :  0.07078312076220117\n"
     ]
    }
   ],
   "source": [
    "# Calcul des performances\n",
    "print(\"--- Assessing the performances of the model ---\")\n",
    "\n",
    "# Performances R^2 scores\n",
    "print(\"R2 score on training set : \", regressor.score(X_train, y_train))\n",
    "print(\"R2 score on test set : \", regressor.score(X_test, y_test))"
   ]
  }
 ],
 "metadata": {
  "kernelspec": {
   "display_name": "base",
   "language": "python",
   "name": "python3"
  },
  "language_info": {
   "codemirror_mode": {
    "name": "ipython",
    "version": 3
   },
   "file_extension": ".py",
   "mimetype": "text/x-python",
   "name": "python",
   "nbconvert_exporter": "python",
   "pygments_lexer": "ipython3",
   "version": "3.11.4"
  }
 },
 "nbformat": 4,
 "nbformat_minor": 2
}
