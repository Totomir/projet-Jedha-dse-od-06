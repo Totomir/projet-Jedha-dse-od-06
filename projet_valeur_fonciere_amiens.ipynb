{
 "cells": [
  {
   "cell_type": "markdown",
   "metadata": {},
   "source": [
    "# Traitement des données :\n",
    "\n",
    "Dans un premier temps, à partir de ma base brute **\"DVF_80.csv\"** je devais retirer un grand nombre de colonnes qui ne me servait pas dans mon étude de la valeur. Le choix a été minutieux, de façon à ne pas retirer de potentiel features importantes. \n",
    "\n",
    "Pour ce faire, j'ai utilisé MySQL et SQLite. MySQL me permettait de faire de plus grosses requêtes comparées à SQLite qui ne peut DROP qu'une colonne à la fois par exemple : \n",
    "\n",
    "[SQL Drop command](SQL/SQL_Drop.png)\n",
    "\n",
    "Dans un second temps, j'ai retiré toutes les natures de mutation qui sont autres que des ventes.\n",
    "\n",
    "[SQL Delete != ventes](SQL/SQL_Delete_first_step.png)\n",
    "\n",
    "Par la suite, j'ai supprimé un ensemble de lignes comprenant des NULL, ou bien des types de bien qui ne correspondait pas.\n",
    "\n",
    "[SQL Delete ...](SQL/SQL_Delete_other.png)\n",
    "\n",
    "Une fois mes données retraitées, je peux procéder à l'analyse.\n",
    "\n"
   ]
  },
  {
   "cell_type": "markdown",
   "metadata": {},
   "source": [
    "## Analyse avec Python"
   ]
  },
  {
   "cell_type": "code",
   "execution_count": 131,
   "metadata": {},
   "outputs": [],
   "source": [
    "# Import\n",
    "import pandas as pd\n",
    "import numpy as np \n",
    "from sklearn.model_selection import train_test_split\n",
    "from sklearn.preprocessing import StandardScaler, OneHotEncoder\n",
    "from sklearn.compose import ColumnTransformer\n",
    "from sklearn.linear_model import LinearRegression\n",
    "from sklearn.impute import SimpleImputer\n",
    "import seaborn as sns\n",
    "import matplotlib.pyplot as plt"
   ]
  },
  {
   "cell_type": "code",
   "execution_count": 132,
   "metadata": {},
   "outputs": [],
   "source": [
    "# Possibilité d'afficher les données de base pour comparer\n",
    "\n",
    "# df = pd.read_csv(\"Data/DVF_80.csv\")\n",
    "# df.head()\n",
    "\n",
    "# print(df.shape)\n",
    "\n",
    "# print(df.describe(include=\"all\"))\n"
   ]
  },
  {
   "cell_type": "code",
   "execution_count": 133,
   "metadata": {},
   "outputs": [
    {
     "data": {
      "text/html": [
       "<div>\n",
       "<style scoped>\n",
       "    .dataframe tbody tr th:only-of-type {\n",
       "        vertical-align: middle;\n",
       "    }\n",
       "\n",
       "    .dataframe tbody tr th {\n",
       "        vertical-align: top;\n",
       "    }\n",
       "\n",
       "    .dataframe thead th {\n",
       "        text-align: right;\n",
       "    }\n",
       "</style>\n",
       "<table border=\"1\" class=\"dataframe\">\n",
       "  <thead>\n",
       "    <tr style=\"text-align: right;\">\n",
       "      <th></th>\n",
       "      <th>id_mutation</th>\n",
       "      <th>nature_mutation</th>\n",
       "      <th>valeur_fonciere</th>\n",
       "      <th>code_postal</th>\n",
       "      <th>type_local</th>\n",
       "      <th>surface_reelle_bati</th>\n",
       "    </tr>\n",
       "  </thead>\n",
       "  <tbody>\n",
       "    <tr>\n",
       "      <th>0</th>\n",
       "      <td>2023-432445</td>\n",
       "      <td>Vente</td>\n",
       "      <td>163500.0</td>\n",
       "      <td>80580</td>\n",
       "      <td>Maison</td>\n",
       "      <td>85</td>\n",
       "    </tr>\n",
       "    <tr>\n",
       "      <th>1</th>\n",
       "      <td>2023-432446</td>\n",
       "      <td>Vente</td>\n",
       "      <td>190500.0</td>\n",
       "      <td>80480</td>\n",
       "      <td>Maison</td>\n",
       "      <td>59</td>\n",
       "    </tr>\n",
       "    <tr>\n",
       "      <th>2</th>\n",
       "      <td>2023-432447</td>\n",
       "      <td>Vente</td>\n",
       "      <td>365000.0</td>\n",
       "      <td>80000</td>\n",
       "      <td>Local industriel. commercial ou assimilé</td>\n",
       "      <td>392</td>\n",
       "    </tr>\n",
       "    <tr>\n",
       "      <th>3</th>\n",
       "      <td>2023-432447</td>\n",
       "      <td>Vente</td>\n",
       "      <td>365000.0</td>\n",
       "      <td>80000</td>\n",
       "      <td>Appartement</td>\n",
       "      <td>51</td>\n",
       "    </tr>\n",
       "    <tr>\n",
       "      <th>4</th>\n",
       "      <td>2023-432448</td>\n",
       "      <td>Vente</td>\n",
       "      <td>220000.0</td>\n",
       "      <td>80150</td>\n",
       "      <td>Maison</td>\n",
       "      <td>84</td>\n",
       "    </tr>\n",
       "  </tbody>\n",
       "</table>\n",
       "</div>"
      ],
      "text/plain": [
       "   id_mutation nature_mutation  valeur_fonciere  code_postal  \\\n",
       "0  2023-432445           Vente         163500.0        80580   \n",
       "1  2023-432446           Vente         190500.0        80480   \n",
       "2  2023-432447           Vente         365000.0        80000   \n",
       "3  2023-432447           Vente         365000.0        80000   \n",
       "4  2023-432448           Vente         220000.0        80150   \n",
       "\n",
       "                                 type_local  surface_reelle_bati  \n",
       "0                                    Maison                   85  \n",
       "1                                    Maison                   59  \n",
       "2  Local industriel. commercial ou assimilé                  392  \n",
       "3                               Appartement                   51  \n",
       "4                                    Maison                   84  "
      ]
     },
     "execution_count": 133,
     "metadata": {},
     "output_type": "execute_result"
    }
   ],
   "source": [
    "df_step2 = pd.read_csv(\"Data/DVF_80_retraitees.csv\")\n",
    "df_step2.head()"
   ]
  },
  {
   "cell_type": "code",
   "execution_count": 134,
   "metadata": {},
   "outputs": [
    {
     "name": "stdout",
     "output_type": "stream",
     "text": [
      "(4397, 6)\n"
     ]
    },
    {
     "data": {
      "text/plain": [
       "id_mutation            False\n",
       "nature_mutation        False\n",
       "valeur_fonciere        False\n",
       "code_postal            False\n",
       "type_local             False\n",
       "surface_reelle_bati    False\n",
       "dtype: bool"
      ]
     },
     "execution_count": 134,
     "metadata": {},
     "output_type": "execute_result"
    }
   ],
   "source": [
    "# Affichage du nombre de ligne et de colonne\n",
    "print(df_step2.shape)\n",
    "\n",
    "# Affichage des colonnes qui contiennent des valeurs null --> normalement il ne devrait pas en avoir après mon retraitement de données en SQL\n",
    "df_step2.isnull().any()\n"
   ]
  },
  {
   "cell_type": "code",
   "execution_count": 135,
   "metadata": {},
   "outputs": [
    {
     "data": {
      "text/html": [
       "<div>\n",
       "<style scoped>\n",
       "    .dataframe tbody tr th:only-of-type {\n",
       "        vertical-align: middle;\n",
       "    }\n",
       "\n",
       "    .dataframe tbody tr th {\n",
       "        vertical-align: top;\n",
       "    }\n",
       "\n",
       "    .dataframe thead th {\n",
       "        text-align: right;\n",
       "    }\n",
       "</style>\n",
       "<table border=\"1\" class=\"dataframe\">\n",
       "  <thead>\n",
       "    <tr style=\"text-align: right;\">\n",
       "      <th></th>\n",
       "      <th>valeur_fonciere</th>\n",
       "      <th>surface_reelle_bati</th>\n",
       "    </tr>\n",
       "  </thead>\n",
       "  <tbody>\n",
       "    <tr>\n",
       "      <th>count</th>\n",
       "      <td>4.397000e+03</td>\n",
       "      <td>4397.000000</td>\n",
       "    </tr>\n",
       "    <tr>\n",
       "      <th>mean</th>\n",
       "      <td>2.074016e+05</td>\n",
       "      <td>128.068001</td>\n",
       "    </tr>\n",
       "    <tr>\n",
       "      <th>std</th>\n",
       "      <td>3.380510e+05</td>\n",
       "      <td>776.355967</td>\n",
       "    </tr>\n",
       "    <tr>\n",
       "      <th>min</th>\n",
       "      <td>1.000000e+00</td>\n",
       "      <td>3.000000</td>\n",
       "    </tr>\n",
       "    <tr>\n",
       "      <th>25%</th>\n",
       "      <td>9.700000e+04</td>\n",
       "      <td>52.000000</td>\n",
       "    </tr>\n",
       "    <tr>\n",
       "      <th>50%</th>\n",
       "      <td>1.500000e+05</td>\n",
       "      <td>77.000000</td>\n",
       "    </tr>\n",
       "    <tr>\n",
       "      <th>75%</th>\n",
       "      <td>2.247500e+05</td>\n",
       "      <td>105.000000</td>\n",
       "    </tr>\n",
       "    <tr>\n",
       "      <th>max</th>\n",
       "      <td>7.380000e+06</td>\n",
       "      <td>31635.000000</td>\n",
       "    </tr>\n",
       "  </tbody>\n",
       "</table>\n",
       "</div>"
      ],
      "text/plain": [
       "       valeur_fonciere  surface_reelle_bati\n",
       "count     4.397000e+03          4397.000000\n",
       "mean      2.074016e+05           128.068001\n",
       "std       3.380510e+05           776.355967\n",
       "min       1.000000e+00             3.000000\n",
       "25%       9.700000e+04            52.000000\n",
       "50%       1.500000e+05            77.000000\n",
       "75%       2.247500e+05           105.000000\n",
       "max       7.380000e+06         31635.000000"
      ]
     },
     "execution_count": 135,
     "metadata": {},
     "output_type": "execute_result"
    }
   ],
   "source": [
    "# Affichage des informations statistiques essentielles\n",
    "## Numeric\n",
    "df_step2_numeric = df_step2[[\"valeur_fonciere\", \"surface_reelle_bati\"]]\n",
    "df_step2_numeric.describe(include=\"all\")\n",
    "\n"
   ]
  },
  {
   "cell_type": "code",
   "execution_count": 136,
   "metadata": {},
   "outputs": [
    {
     "data": {
      "text/html": [
       "<div>\n",
       "<style scoped>\n",
       "    .dataframe tbody tr th:only-of-type {\n",
       "        vertical-align: middle;\n",
       "    }\n",
       "\n",
       "    .dataframe tbody tr th {\n",
       "        vertical-align: top;\n",
       "    }\n",
       "\n",
       "    .dataframe thead th {\n",
       "        text-align: right;\n",
       "    }\n",
       "</style>\n",
       "<table border=\"1\" class=\"dataframe\">\n",
       "  <thead>\n",
       "    <tr style=\"text-align: right;\">\n",
       "      <th></th>\n",
       "      <th>nature_mutation</th>\n",
       "      <th>code_postal</th>\n",
       "      <th>type_local</th>\n",
       "    </tr>\n",
       "  </thead>\n",
       "  <tbody>\n",
       "    <tr>\n",
       "      <th>count</th>\n",
       "      <td>4397</td>\n",
       "      <td>4397.000000</td>\n",
       "      <td>4397</td>\n",
       "    </tr>\n",
       "    <tr>\n",
       "      <th>unique</th>\n",
       "      <td>1</td>\n",
       "      <td>NaN</td>\n",
       "      <td>3</td>\n",
       "    </tr>\n",
       "    <tr>\n",
       "      <th>top</th>\n",
       "      <td>Vente</td>\n",
       "      <td>NaN</td>\n",
       "      <td>Maison</td>\n",
       "    </tr>\n",
       "    <tr>\n",
       "      <th>freq</th>\n",
       "      <td>4397</td>\n",
       "      <td>NaN</td>\n",
       "      <td>3079</td>\n",
       "    </tr>\n",
       "    <tr>\n",
       "      <th>mean</th>\n",
       "      <td>NaN</td>\n",
       "      <td>80283.294292</td>\n",
       "      <td>NaN</td>\n",
       "    </tr>\n",
       "    <tr>\n",
       "      <th>std</th>\n",
       "      <td>NaN</td>\n",
       "      <td>243.745282</td>\n",
       "      <td>NaN</td>\n",
       "    </tr>\n",
       "    <tr>\n",
       "      <th>min</th>\n",
       "      <td>NaN</td>\n",
       "      <td>80000.000000</td>\n",
       "      <td>NaN</td>\n",
       "    </tr>\n",
       "    <tr>\n",
       "      <th>25%</th>\n",
       "      <td>NaN</td>\n",
       "      <td>80090.000000</td>\n",
       "      <td>NaN</td>\n",
       "    </tr>\n",
       "    <tr>\n",
       "      <th>50%</th>\n",
       "      <td>NaN</td>\n",
       "      <td>80210.000000</td>\n",
       "      <td>NaN</td>\n",
       "    </tr>\n",
       "    <tr>\n",
       "      <th>75%</th>\n",
       "      <td>NaN</td>\n",
       "      <td>80460.000000</td>\n",
       "      <td>NaN</td>\n",
       "    </tr>\n",
       "    <tr>\n",
       "      <th>max</th>\n",
       "      <td>NaN</td>\n",
       "      <td>80980.000000</td>\n",
       "      <td>NaN</td>\n",
       "    </tr>\n",
       "  </tbody>\n",
       "</table>\n",
       "</div>"
      ],
      "text/plain": [
       "       nature_mutation   code_postal type_local\n",
       "count             4397   4397.000000       4397\n",
       "unique               1           NaN          3\n",
       "top              Vente           NaN     Maison\n",
       "freq              4397           NaN       3079\n",
       "mean               NaN  80283.294292        NaN\n",
       "std                NaN    243.745282        NaN\n",
       "min                NaN  80000.000000        NaN\n",
       "25%                NaN  80090.000000        NaN\n",
       "50%                NaN  80210.000000        NaN\n",
       "75%                NaN  80460.000000        NaN\n",
       "max                NaN  80980.000000        NaN"
      ]
     },
     "execution_count": 136,
     "metadata": {},
     "output_type": "execute_result"
    }
   ],
   "source": [
    "# Affichage des informations statistiques essentielles\n",
    "## Catégoriel\n",
    "df_step2_categorical = df_step2[[\"nature_mutation\", \"code_postal\", \"type_local\"]]\n",
    "df_step2_categorical.describe(include=\"all\")\n"
   ]
  },
  {
   "cell_type": "markdown",
   "metadata": {},
   "source": [
    "Je décide par la suite de supprimer les valeurs extrêmes car elles viennent fausser mes tendances et ne sont pas représentative du reste de ma base. Pour ce faire j'applique la méthode de l'écart inter-quartiles."
   ]
  },
  {
   "cell_type": "code",
   "execution_count": 137,
   "metadata": {},
   "outputs": [
    {
     "data": {
      "text/html": [
       "<div>\n",
       "<style scoped>\n",
       "    .dataframe tbody tr th:only-of-type {\n",
       "        vertical-align: middle;\n",
       "    }\n",
       "\n",
       "    .dataframe tbody tr th {\n",
       "        vertical-align: top;\n",
       "    }\n",
       "\n",
       "    .dataframe thead th {\n",
       "        text-align: right;\n",
       "    }\n",
       "</style>\n",
       "<table border=\"1\" class=\"dataframe\">\n",
       "  <thead>\n",
       "    <tr style=\"text-align: right;\">\n",
       "      <th></th>\n",
       "      <th>id_mutation</th>\n",
       "      <th>nature_mutation</th>\n",
       "      <th>valeur_fonciere</th>\n",
       "      <th>code_postal</th>\n",
       "      <th>type_local</th>\n",
       "      <th>surface_reelle_bati</th>\n",
       "    </tr>\n",
       "  </thead>\n",
       "  <tbody>\n",
       "    <tr>\n",
       "      <th>0</th>\n",
       "      <td>2023-432445</td>\n",
       "      <td>Vente</td>\n",
       "      <td>163500.0</td>\n",
       "      <td>80580</td>\n",
       "      <td>Maison</td>\n",
       "      <td>85</td>\n",
       "    </tr>\n",
       "    <tr>\n",
       "      <th>1</th>\n",
       "      <td>2023-432446</td>\n",
       "      <td>Vente</td>\n",
       "      <td>190500.0</td>\n",
       "      <td>80480</td>\n",
       "      <td>Maison</td>\n",
       "      <td>59</td>\n",
       "    </tr>\n",
       "    <tr>\n",
       "      <th>2</th>\n",
       "      <td>2023-432447</td>\n",
       "      <td>Vente</td>\n",
       "      <td>365000.0</td>\n",
       "      <td>80000</td>\n",
       "      <td>Local industriel. commercial ou assimilé</td>\n",
       "      <td>392</td>\n",
       "    </tr>\n",
       "    <tr>\n",
       "      <th>3</th>\n",
       "      <td>2023-432447</td>\n",
       "      <td>Vente</td>\n",
       "      <td>365000.0</td>\n",
       "      <td>80000</td>\n",
       "      <td>Appartement</td>\n",
       "      <td>51</td>\n",
       "    </tr>\n",
       "    <tr>\n",
       "      <th>4</th>\n",
       "      <td>2023-432448</td>\n",
       "      <td>Vente</td>\n",
       "      <td>220000.0</td>\n",
       "      <td>80150</td>\n",
       "      <td>Maison</td>\n",
       "      <td>84</td>\n",
       "    </tr>\n",
       "    <tr>\n",
       "      <th>...</th>\n",
       "      <td>...</td>\n",
       "      <td>...</td>\n",
       "      <td>...</td>\n",
       "      <td>...</td>\n",
       "      <td>...</td>\n",
       "      <td>...</td>\n",
       "    </tr>\n",
       "    <tr>\n",
       "      <th>4391</th>\n",
       "      <td>2023-437413</td>\n",
       "      <td>Vente</td>\n",
       "      <td>137100.0</td>\n",
       "      <td>80860</td>\n",
       "      <td>Maison</td>\n",
       "      <td>60</td>\n",
       "    </tr>\n",
       "    <tr>\n",
       "      <th>4392</th>\n",
       "      <td>2023-437414</td>\n",
       "      <td>Vente</td>\n",
       "      <td>1000.0</td>\n",
       "      <td>80640</td>\n",
       "      <td>Maison</td>\n",
       "      <td>45</td>\n",
       "    </tr>\n",
       "    <tr>\n",
       "      <th>4394</th>\n",
       "      <td>2023-437416</td>\n",
       "      <td>Vente</td>\n",
       "      <td>160000.0</td>\n",
       "      <td>80200</td>\n",
       "      <td>Maison</td>\n",
       "      <td>75</td>\n",
       "    </tr>\n",
       "    <tr>\n",
       "      <th>4395</th>\n",
       "      <td>2023-437419</td>\n",
       "      <td>Vente</td>\n",
       "      <td>227000.0</td>\n",
       "      <td>80130</td>\n",
       "      <td>Maison</td>\n",
       "      <td>123</td>\n",
       "    </tr>\n",
       "    <tr>\n",
       "      <th>4396</th>\n",
       "      <td>2023-437419</td>\n",
       "      <td>Vente</td>\n",
       "      <td>227000.0</td>\n",
       "      <td>80130</td>\n",
       "      <td>Maison</td>\n",
       "      <td>123</td>\n",
       "    </tr>\n",
       "  </tbody>\n",
       "</table>\n",
       "<p>4128 rows × 6 columns</p>\n",
       "</div>"
      ],
      "text/plain": [
       "      id_mutation nature_mutation  valeur_fonciere  code_postal  \\\n",
       "0     2023-432445           Vente         163500.0        80580   \n",
       "1     2023-432446           Vente         190500.0        80480   \n",
       "2     2023-432447           Vente         365000.0        80000   \n",
       "3     2023-432447           Vente         365000.0        80000   \n",
       "4     2023-432448           Vente         220000.0        80150   \n",
       "...           ...             ...              ...          ...   \n",
       "4391  2023-437413           Vente         137100.0        80860   \n",
       "4392  2023-437414           Vente           1000.0        80640   \n",
       "4394  2023-437416           Vente         160000.0        80200   \n",
       "4395  2023-437419           Vente         227000.0        80130   \n",
       "4396  2023-437419           Vente         227000.0        80130   \n",
       "\n",
       "                                    type_local  surface_reelle_bati  \n",
       "0                                       Maison                   85  \n",
       "1                                       Maison                   59  \n",
       "2     Local industriel. commercial ou assimilé                  392  \n",
       "3                                  Appartement                   51  \n",
       "4                                       Maison                   84  \n",
       "...                                        ...                  ...  \n",
       "4391                                    Maison                   60  \n",
       "4392                                    Maison                   45  \n",
       "4394                                    Maison                   75  \n",
       "4395                                    Maison                  123  \n",
       "4396                                    Maison                  123  \n",
       "\n",
       "[4128 rows x 6 columns]"
      ]
     },
     "execution_count": 137,
     "metadata": {},
     "output_type": "execute_result"
    }
   ],
   "source": [
    "# Retirer les valeurs extrêmes pour la valeur_fonciere\n",
    "Q1 = df_step2[\"valeur_fonciere\"].quantile(0.25)\n",
    "Q3 = df_step2[\"valeur_fonciere\"].quantile(0.75)\n",
    "\n",
    "IQR = Q3 - Q1\n",
    "\n",
    "# Bornes acceptables\n",
    "borne_inf = Q1 - 1.5 * IQR\n",
    "borne_sup = Q3 + 1.5 * IQR\n",
    "\n",
    "df_sans_extremes = df_step2[(df_step2[\"valeur_fonciere\"] >= borne_inf) & (df_step2[\"valeur_fonciere\"] <= borne_sup)]\n",
    "\n",
    "df_sans_extremes"
   ]
  },
  {
   "cell_type": "code",
   "execution_count": 138,
   "metadata": {},
   "outputs": [
    {
     "data": {
      "image/png": "[encoded data removed]",
      "text/plain": [
       "<Figure size 640x480 with 1 Axes>"
      ]
     },
     "metadata": {},
     "output_type": "display_data"
    }
   ],
   "source": [
    "# Affichage du nuage de point pour visualiser la tendance\n",
    "plt.scatter(df_sans_extremes.iloc[:, 5], df_sans_extremes.iloc[:, 2], color=\"#4BE8E0\")\n",
    "plt.show()"
   ]
  },
  {
   "cell_type": "code",
   "execution_count": 139,
   "metadata": {},
   "outputs": [
    {
     "data": {
      "image/png": "[encoded data removed]",
      "text/plain": [
       "<Figure size 640x480 with 1 Axes>"
      ]
     },
     "metadata": {},
     "output_type": "display_data"
    }
   ],
   "source": [
    "# Affichage d'un graphique boxplot mettant en avant les éléments principaux comme les quartiles, les min / max et la moyenne\n",
    "\n",
    "max_value = df_sans_extremes['valeur_fonciere'].max()\n",
    "min_value = df_sans_extremes['valeur_fonciere'].min()\n",
    "mean_value = round(df_sans_extremes['valeur_fonciere'].mean(),2)\n",
    "q1 = df_sans_extremes['valeur_fonciere'].quantile(0.25)\n",
    "q3 = df_sans_extremes['valeur_fonciere'].quantile(0.75)\n",
    "\n",
    "plt.boxplot([min_value, q1, mean_value, q3, max_value])\n",
    "\n",
    "plt.text(1.1, max_value, f\"Max: {max_value}\", ha='left', va='top', color='green')\n",
    "plt.text(1.1, q1, f\"Q1: {q1}\", ha='left', va='top', color='red')\n",
    "plt.text(1.1, mean_value, f\"Mean: {mean_value}\", ha='left', va='center', color='blue')\n",
    "plt.text(1.1, q3, f\"Q3: {q3}\", ha='left', va='bottom', color='red')\n",
    "plt.text(1.1, min_value, f\"Min: {min_value}\", ha='left', va='top', color='green')\n",
    "\n",
    "\n",
    "plt.ylabel(\"Valeur foncière\")\n",
    "plt.title(\"Représentation de la valeur foncière dans son ensemble\")\n",
    "\n",
    "plt.show()"
   ]
  },
  {
   "cell_type": "code",
   "execution_count": 140,
   "metadata": {},
   "outputs": [
    {
     "data": {
      "image/png": "[encoded data removed]",
      "text/plain": [
       "<Figure size 500x500 with 1 Axes>"
      ]
     },
     "metadata": {},
     "output_type": "display_data"
    }
   ],
   "source": [
    "# Traçage d'une droite de régression linéaire lié à mon nuage de point\n",
    "\n",
    "sns.set(style=\"darkgrid\")\n",
    "sns.lmplot(x=\"surface_reelle_bati\", y=\"valeur_fonciere\", data=df_sans_extremes)\n",
    "\n",
    "plt.title(\"Droite de Régression Linéaire de la valeur foncière en fonction de la surface\")\n",
    "\n",
    "plt.show()"
   ]
  },
  {
   "cell_type": "markdown",
   "metadata": {},
   "source": [
    "Malgré des valeurs extrêmes et un regroupement de données, je décide de partir sur un modèle de régression linéaire. J'imagine qu'une tendance va ressortir de la superficie des biens et du type de bien, permettant d'envisager sa valeur."
   ]
  },
  {
   "cell_type": "markdown",
   "metadata": {},
   "source": [
    "## Machine Learning --> Modèle de régression linéaire"
   ]
  },
  {
   "cell_type": "code",
   "execution_count": 141,
   "metadata": {},
   "outputs": [
    {
     "data": {
      "text/html": [
       "<div>\n",
       "<style scoped>\n",
       "    .dataframe tbody tr th:only-of-type {\n",
       "        vertical-align: middle;\n",
       "    }\n",
       "\n",
       "    .dataframe tbody tr th {\n",
       "        vertical-align: top;\n",
       "    }\n",
       "\n",
       "    .dataframe thead th {\n",
       "        text-align: right;\n",
       "    }\n",
       "</style>\n",
       "<table border=\"1\" class=\"dataframe\">\n",
       "  <thead>\n",
       "    <tr style=\"text-align: right;\">\n",
       "      <th></th>\n",
       "      <th>id_mutation</th>\n",
       "      <th>nature_mutation</th>\n",
       "      <th>valeur_fonciere</th>\n",
       "      <th>code_postal</th>\n",
       "      <th>type_local</th>\n",
       "      <th>surface_reelle_bati</th>\n",
       "    </tr>\n",
       "  </thead>\n",
       "  <tbody>\n",
       "    <tr>\n",
       "      <th>0</th>\n",
       "      <td>2023-432445</td>\n",
       "      <td>Vente</td>\n",
       "      <td>163500.0</td>\n",
       "      <td>80580</td>\n",
       "      <td>Maison</td>\n",
       "      <td>85</td>\n",
       "    </tr>\n",
       "    <tr>\n",
       "      <th>1</th>\n",
       "      <td>2023-432446</td>\n",
       "      <td>Vente</td>\n",
       "      <td>190500.0</td>\n",
       "      <td>80480</td>\n",
       "      <td>Maison</td>\n",
       "      <td>59</td>\n",
       "    </tr>\n",
       "    <tr>\n",
       "      <th>2</th>\n",
       "      <td>2023-432447</td>\n",
       "      <td>Vente</td>\n",
       "      <td>365000.0</td>\n",
       "      <td>80000</td>\n",
       "      <td>Local industriel. commercial ou assimilé</td>\n",
       "      <td>392</td>\n",
       "    </tr>\n",
       "    <tr>\n",
       "      <th>3</th>\n",
       "      <td>2023-432447</td>\n",
       "      <td>Vente</td>\n",
       "      <td>365000.0</td>\n",
       "      <td>80000</td>\n",
       "      <td>Appartement</td>\n",
       "      <td>51</td>\n",
       "    </tr>\n",
       "    <tr>\n",
       "      <th>4</th>\n",
       "      <td>2023-432448</td>\n",
       "      <td>Vente</td>\n",
       "      <td>220000.0</td>\n",
       "      <td>80150</td>\n",
       "      <td>Maison</td>\n",
       "      <td>84</td>\n",
       "    </tr>\n",
       "  </tbody>\n",
       "</table>\n",
       "</div>"
      ],
      "text/plain": [
       "   id_mutation nature_mutation  valeur_fonciere  code_postal  \\\n",
       "0  2023-432445           Vente         163500.0        80580   \n",
       "1  2023-432446           Vente         190500.0        80480   \n",
       "2  2023-432447           Vente         365000.0        80000   \n",
       "3  2023-432447           Vente         365000.0        80000   \n",
       "4  2023-432448           Vente         220000.0        80150   \n",
       "\n",
       "                                 type_local  surface_reelle_bati  \n",
       "0                                    Maison                   85  \n",
       "1                                    Maison                   59  \n",
       "2  Local industriel. commercial ou assimilé                  392  \n",
       "3                               Appartement                   51  \n",
       "4                                    Maison                   84  "
      ]
     },
     "execution_count": 141,
     "metadata": {},
     "output_type": "execute_result"
    }
   ],
   "source": [
    "# Rappel des colonnes\n",
    "\n",
    "df_sans_extremes.head()"
   ]
  },
  {
   "cell_type": "code",
   "execution_count": 142,
   "metadata": {},
   "outputs": [
    {
     "name": "stdout",
     "output_type": "stream",
     "text": [
      "Separating labels from features...\n",
      "...Done.\n",
      "\n"
     ]
    }
   ],
   "source": [
    "# Séparation de la variable cible Y et de la variable \"features\" X\n",
    "\n",
    "print(\"Separating labels from features...\")\n",
    "feature_list=[\"surface_reelle_bati\", \"type_local\"]\n",
    "X = df_sans_extremes.loc[:,feature_list]\n",
    "y = df_sans_extremes.loc[:,\"valeur_fonciere\"]\n",
    "print(\"...Done.\")\n",
    "print()"
   ]
  },
  {
   "cell_type": "code",
   "execution_count": 143,
   "metadata": {},
   "outputs": [
    {
     "name": "stdout",
     "output_type": "stream",
     "text": [
      "Splitting dataset into train set and test set...\n",
      "...Done.\n",
      "      surface_reelle_bati                                type_local\n",
      "952                    45  Local industriel. commercial ou assimilé\n",
      "1549                  106                                    Maison\n",
      "4187                   45                                    Maison\n",
      "3481                   46                               Appartement\n",
      "1883                   57                               Appartement\n"
     ]
    }
   ],
   "source": [
    "# Division du dataset en Train / Test\n",
    "\n",
    "print(\"Splitting dataset into train set and test set...\")\n",
    "\n",
    "X_train, X_test, y_train, y_test = train_test_split(X, y, test_size=0.2, random_state=0) \n",
    "\n",
    "print(\"...Done.\")  \n",
    "\n",
    "# Visualisation de mon X_train\n",
    "\n",
    "print(X_train.head())"
   ]
  },
  {
   "cell_type": "code",
   "execution_count": 144,
   "metadata": {},
   "outputs": [
    {
     "name": "stdout",
     "output_type": "stream",
     "text": [
      "--- Training pipeline ---\n",
      "\n",
      "#### X_train BEFORE preprocessing ####\n",
      "      surface_reelle_bati                                type_local\n",
      "952                    45  Local industriel. commercial ou assimilé\n",
      "1549                  106                                    Maison\n",
      "4187                   45                                    Maison\n",
      "3481                   46                               Appartement\n",
      "1883                   57                               Appartement\n",
      "\n",
      "Encoding categorical features and standardizing numerical features...\n",
      "\n",
      "...Done.\n",
      "[[-0.21639299  1.          0.        ]\n",
      " [ 0.05113077  0.          1.        ]\n",
      " [-0.21639299  0.          1.        ]\n",
      " [-0.21200736  0.          0.        ]\n",
      " [-0.16376537  0.          0.        ]]\n",
      "\n"
     ]
    }
   ],
   "source": [
    "### Training pipeline ###\n",
    "print(\"--- Training pipeline ---\")\n",
    "print()  \n",
    "\n",
    "# Encodage des \"categorical features\" et standardisation des \"numeric features\"\n",
    "\n",
    "print(\"#### X_train BEFORE preprocessing ####\")\n",
    "print(X_train.head())\n",
    "print()\n",
    "\n",
    "print(\"Encoding categorical features and standardizing numerical features...\")\n",
    "\n",
    "print()\n",
    "\n",
    "numeric_features = [0]\n",
    "numeric_transformer = StandardScaler()\n",
    "\n",
    "categorical_features = [1]\n",
    "categorical_transformer = OneHotEncoder(drop='first')\n",
    "\n",
    "feature_encoder = ColumnTransformer(\n",
    "    transformers=[  \n",
    "        ('num', numeric_transformer, numeric_features),\n",
    "        ('cat', categorical_transformer, categorical_features)\n",
    "        ]\n",
    "    )\n",
    "\n",
    "X_train = feature_encoder.fit_transform(X_train)\n",
    "print(\"...Done.\")\n",
    "print(X_train[:5]) \n",
    "print()"
   ]
  },
  {
   "cell_type": "code",
   "execution_count": 145,
   "metadata": {},
   "outputs": [
    {
     "name": "stdout",
     "output_type": "stream",
     "text": [
      "Train model...\n",
      "...Done.\n"
     ]
    }
   ],
   "source": [
    "# Train model\n",
    "\n",
    "print(\"Train model...\")\n",
    "regressor = LinearRegression()\n",
    "regressor.fit(X_train, y_train) \n",
    "print(\"...Done.\")"
   ]
  },
  {
   "cell_type": "code",
   "execution_count": 146,
   "metadata": {},
   "outputs": [
    {
     "name": "stdout",
     "output_type": "stream",
     "text": [
      "Predictions on training set...\n",
      "...Done.\n",
      "[159255.20743459 157742.59850305 155515.71039242 161208.87840325\n",
      " 161610.44839041]\n",
      "\n"
     ]
    }
   ],
   "source": [
    "# Prédiction sur le training set\n",
    "print(\"Predictions on training set...\")\n",
    "y_train_pred = regressor.predict(X_train)\n",
    "print(\"...Done.\")\n",
    "print(y_train_pred[:5]) \n",
    "print()"
   ]
  },
  {
   "cell_type": "code",
   "execution_count": 147,
   "metadata": {},
   "outputs": [
    {
     "name": "stdout",
     "output_type": "stream",
     "text": [
      "--- Testing pipeline ---\n",
      "Standardizing numerical features...\n",
      "      surface_reelle_bati                                type_local\n",
      "1172                  100                                    Maison\n",
      "51                     56                                    Maison\n",
      "1696                   51                                    Maison\n",
      "1394                   37                               Appartement\n",
      "3459                   82                                    Maison\n",
      "...                   ...                                       ...\n",
      "223                   115                                    Maison\n",
      "56                     50  Local industriel. commercial ou assimilé\n",
      "104                    56                                    Maison\n",
      "1641                  102                                    Maison\n",
      "3653                  102                                    Maison\n",
      "\n",
      "[826 rows x 2 columns]\n",
      "\n",
      "...Done.\n",
      "[[ 0.02481696  0.          1.        ]\n",
      " [-0.168151    0.          1.        ]\n",
      " [-0.19007918  0.          1.        ]\n",
      " [-0.25147808  0.          0.        ]\n",
      " [-0.05412448  0.          1.        ]]\n",
      "\n"
     ]
    }
   ],
   "source": [
    "### Testing pipeline ###\n",
    "print(\"--- Testing pipeline ---\")\n",
    "\n",
    "# Standardisation des \"numeric features\"\n",
    "print(\"Standardizing numerical features...\")\n",
    "print(X_test)\n",
    "print()\n",
    "\n",
    "X_test = feature_encoder.transform(X_test)\n",
    "\n",
    "print(\"...Done.\")\n",
    "print(X_test[:5])\n",
    "print()"
   ]
  },
  {
   "cell_type": "code",
   "execution_count": 148,
   "metadata": {},
   "outputs": [
    {
     "name": "stdout",
     "output_type": "stream",
     "text": [
      "Predictions on test set...\n",
      "...Done.\n",
      "[157523.56032823 155917.28037958 155734.74856723 160880.32114102\n",
      " 156866.44580378]\n",
      "\n"
     ]
    }
   ],
   "source": [
    "# Prédiction du test set\n",
    "\n",
    "print(\"Predictions on test set...\")\n",
    "y_test_pred = regressor.predict(X_test)\n",
    "print(\"...Done.\")\n",
    "print(y_test_pred[:5])\n",
    "print()"
   ]
  },
  {
   "cell_type": "code",
   "execution_count": 149,
   "metadata": {},
   "outputs": [
    {
     "name": "stdout",
     "output_type": "stream",
     "text": [
      "--- Assessing the performances of the model ---\n",
      "R2 score on training set :  0.01048236786361001\n",
      "R2 score on test set :  0.006665110423755394\n"
     ]
    }
   ],
   "source": [
    "# Calcul des performances\n",
    "print(\"--- Assessing the performances of the model ---\")\n",
    "\n",
    "# Performances R^2 scores\n",
    "print(\"R2 score on training set : \", regressor.score(X_train, y_train))\n",
    "print(\"R2 score on test set : \", regressor.score(X_test, y_test))"
   ]
  },
  {
   "cell_type": "markdown",
   "metadata": {},
   "source": [
    "[Conclusion](readme.ipynb)"
   ]
  }
 ],
 "metadata": {
  "kernelspec": {
   "display_name": "base",
   "language": "python",
   "name": "python3"
  },
  "language_info": {
   "codemirror_mode": {
    "name": "ipython",
    "version": 3
   },
   "file_extension": ".py",
   "mimetype": "text/x-python",
   "name": "python",
   "nbconvert_exporter": "python",
   "pygments_lexer": "ipython3",
   "version": "3.11.4"
  }
 },
 "nbformat": 4,
 "nbformat_minor": 2
}
