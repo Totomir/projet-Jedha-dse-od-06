{
 "cells": [
  {
   "cell_type": "markdown",
   "metadata": {},
   "source": [
    "# Projet de Thomas MIRAULT - Data Essentials - dse-od-06"
   ]
  },
  {
   "cell_type": "markdown",
   "metadata": {},
   "source": [
    "## Introduction : "
   ]
  },
  {
   "cell_type": "markdown",
   "metadata": {},
   "source": [
    "La problématique : \n",
    "\n",
    "*Comment est définie la valeur foncière d'un bien immobilier dans la ville d'Amiens ?*"
   ]
  },
  {
   "cell_type": "markdown",
   "metadata": {},
   "source": [
    "Cette problématique est personnelle, prochainement je m'installe dans la ville d'Amiens, et je souhaiterais à terme, acheter un bien. Par curiosité je trouvais intéressant de comprendre comment est définie la valeur de bien immobilier dans une zone spécifique en fonction de différents critères.\n",
    "\n",
    "Mon dataset provient donc du site : https://files.data.gouv.fr/geo-dvf/latest/csv/2023/departements/\n",
    "\n",
    "Il comprend toutes les transactions de biens réalisés dans le département de la Somme sur l'année 2023."
   ]
  },
  {
   "cell_type": "markdown",
   "metadata": {},
   "source": [
    "Pour introduire mon dataset, il comprend exactement 40 colonnes et un peu moins de 12930 lignes correspondant à chaque transaction."
   ]
  },
  {
   "cell_type": "markdown",
   "metadata": {},
   "source": [
    "## Exploration et traitement des données "
   ]
  },
  {
   "cell_type": "markdown",
   "metadata": {},
   "source": [
    "L'exploration et le traitement des données se feront dans le fichier **\"projet_valeur_fonciere_amiens.ipynb\"**"
   ]
  },
  {
   "cell_type": "markdown",
   "metadata": {},
   "source": [
    "## Conclusion"
   ]
  },
  {
   "cell_type": "markdown",
   "metadata": {},
   "source": [
    "On peut constater que mon R2 pour le train est de 0.01 ce qui traduit que ma variance est expliquée par les variables \"surface_reelle_bati\" et \"type_local\" à hauteur de 1%.\n",
    "\n",
    "Ce R2 très faible se justifie par différente raisons : \n",
    "\n",
    "- Mon jeu de donnée n'était pas assez exhaustive : en effet, les valeurs extrêmes de la surface et le regroupement de petites valeurs viennent fausser mon modèle, et je manque d'informations.\n",
    "\n",
    "- Remise en cause de la méthode : le modèle de régression linéaire n'était peut-être pas le plus adapté pour ma problématique, il serait intéressant de tester avec différents modèles.\n",
    "\n",
    "- Volatilité : la valeur d'un bien ne dépend pas de règle stricte, la volatilité du marché, le contexte économique et la localisation viennent directement affecter les données surtout sur une période de 9 mois et demi."
   ]
  },
  {
   "cell_type": "markdown",
   "metadata": {},
   "source": [
    "## REX\n",
    "\n",
    "En réalité, j'ai effectué l'exercice 3 fois. \n",
    "\n",
    "J'ai réalisé un premier essai en ne prenant que \"surface_reelle_bati\" comme \"features\" X. Pensant qu'une étroite corrélation existait entre la valeur d'un bien et la superficie de ce dernier. De plus mon dataset ne comprenait que des appartements. \n",
    "Les résultats étaient décevants, en effet, mon R2 était de 0,01 pour le train et de -0,04 pour le test. \n",
    "Il me fallait donc ajouter des données afin d'augmenter la corrélation de la valeur de mon bien.\n",
    "\n",
    "Sur un second essai, j'ai rajouté le \"type_local\" comme \"features\" X. Agrandissant mon dataset, j'ai pu obtenir les R2 de 0,1 pour le train et 0,07 pour le test.\n",
    "Cependant, des valeurs extrêmes venaient fausser les visualisations que j'avais effectuées. De plus, je pensais qu'en retirant ces valeurs, je me rapprocherais d'une règle définie permettant de comprendre la corrélation. \n",
    "\n",
    "J'ai donc effectué l'exercice une ultime fois, en retirant les extrêmes afin de me concentrer sur le coeur du dataset, et là les résultats sont ceux de ma conclusion."
   ]
  }
 ],
 "metadata": {
  "language_info": {
   "name": "python"
  }
 },
 "nbformat": 4,
 "nbformat_minor": 2
}
