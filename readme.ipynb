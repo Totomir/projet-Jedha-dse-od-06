{
 "cells": [
  {
   "cell_type": "markdown",
   "metadata": {},
   "source": [
    "# Projet de Thomas MIRAULT - Data Essentials - dse-od-06"
   ]
  },
  {
   "cell_type": "markdown",
   "metadata": {},
   "source": [
    "## Introduction : "
   ]
  },
  {
   "cell_type": "markdown",
   "metadata": {},
   "source": [
    "La problématique : \n",
    "\n",
    "*Comment prévoir la valeur foncière d'un bien immobilier dans la ville d'Amiens ?*"
   ]
  },
  {
   "cell_type": "markdown",
   "metadata": {},
   "source": [
    "Cette problématique est personnelle, prochainement je m'installe dans la ville d'Amiens, et je souhaiterais à terme, acheter un bien. Par curiosité je trouvais intéressant de savoir s'il était possible de prévoir la valeur de bien immobilier dans une zone spécifique en fonction de différents critères.\n",
    "\n",
    "Mon dataset provient donc du site : https://files.data.gouv.fr/geo-dvf/latest/csv/2023/departements/\n",
    "\n",
    "Il comprend toutes les transactions de biens réalisés dans le département de la Somme sur l'année 2023."
   ]
  },
  {
   "cell_type": "markdown",
   "metadata": {},
   "source": [
    "Pour introduire mon dataset, il comprend exactement 40 colonnes et un peu moins de 12930 lignes correspondant à chaque transaction."
   ]
  },
  {
   "cell_type": "markdown",
   "metadata": {},
   "source": [
    "## Exploration et traitement des données "
   ]
  },
  {
   "cell_type": "markdown",
   "metadata": {},
   "source": [
    "L'exploration et le traitement des données se feront dans le fichier **\"projet_valeur_fonciere_amiens.ipynb\"**"
   ]
  },
  {
   "cell_type": "markdown",
   "metadata": {},
   "source": [
    "## Conclusion"
   ]
  },
  {
   "cell_type": "markdown",
   "metadata": {},
   "source": [
    "On peut constater un R2 très faible aussi bien pour le test set que le train set. Cela peut provenir de différente raisons : \n",
    "\n",
    "- Mon jeu de donnée n'était pas adapté : en effet, les valeurs extrêmes de la surface et le regroupement de petites valeurs viennent fausser mon modèle.\n",
    "- Remise en cause de la méthode : le modèle de régression linéaire n'était peut-être pas le plus adapté pour ma problématique, il serait intéressant de tester avec différents modèles.\n",
    "- Volatilité : la valeur d'un bien ne dépend pas de règle stricte, la volatilité du marché, le contexte économique viennent directement affecter les données surtout sur une période de 9 mois et demi."
   ]
  },
  {
   "cell_type": "markdown",
   "metadata": {},
   "source": [
    "## REX\n",
    "\n",
    "En réalité, j'ai effectué l'exercice 2 fois. J'ai réalisé un premier essai en ne prenant que la surface des biens comme \"features\" X. Pensant qu'une étroite corrélation existant entre la valeur d'un bien et la superficie de ce dernier. De plus mon dataset ne comprenait que des appartements. \n",
    "\n",
    "Les résultats étaient décevants, en effet, mon R2 était de 0,01 pour le train et de -0,04 pour le test. \n",
    "\n",
    "Il me fallait donc ajouter des données afin d'augmenter la corrélation de la valeur de mon bien."
   ]
  },
  {
   "cell_type": "markdown",
   "metadata": {},
   "source": []
  }
 ],
 "metadata": {
  "language_info": {
   "name": "python"
  }
 },
 "nbformat": 4,
 "nbformat_minor": 2
}
